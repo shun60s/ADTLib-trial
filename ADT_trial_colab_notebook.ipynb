{
  "nbformat": 4,
  "nbformat_minor": 0,
  "metadata": {
    "colab": {
      "provenance": [],
      "private_outputs": true
    },
    "kernelspec": {
      "name": "python3",
      "display_name": "Python 3"
    },
    "gpuClass": "standard"
  },
  "cells": [
    {
      "cell_type": "markdown",
      "source": [
        "This is a trial to\n",
        "Automatic Drum Transcription Library (ADTLib)\n",
        "https://github.com/CarlSouthall/ADTLib\n",
        "on google coloaboratory\n",
        " using  tf1.5.x cpu and python3.6.x.   \n",
        "(May 2023)"
      ],
      "metadata": {
        "id": "mrrx499y092N"
      }
    },
    {
      "cell_type": "markdown",
      "source": [
        "(1) install python3.6.x to use tf 1.5.x"
      ],
      "metadata": {
        "id": "SjxZeGV9DVZU"
      }
    },
    {
      "cell_type": "code",
      "source": [
        "!sudo apt install python3.6\n",
        "!sudo update-alternatives --install /usr/bin/python3 python3 /usr/bin/python3.6 1"
      ],
      "metadata": {
        "id": "8gtiUT0f3Ytq"
      },
      "execution_count": null,
      "outputs": []
    },
    {
      "cell_type": "markdown",
      "source": [
        "(2)change python3 version python3.6. input 2 and \\enter"
      ],
      "metadata": {
        "id": "Ko_hoXvODiJs"
      }
    },
    {
      "cell_type": "code",
      "source": [
        "!sudo update-alternatives --config python3"
      ],
      "metadata": {
        "id": "qdUmrbhG3mUJ"
      },
      "execution_count": null,
      "outputs": []
    },
    {
      "cell_type": "markdown",
      "source": [
        "(3)check current python version if Python 3.6.x"
      ],
      "metadata": {
        "id": "LbZDJ8dnENwj"
      }
    },
    {
      "cell_type": "code",
      "source": [
        "!python --version"
      ],
      "metadata": {
        "id": "8eaHhHHh35Lv"
      },
      "execution_count": null,
      "outputs": []
    },
    {
      "cell_type": "markdown",
      "source": [
        "(4)install tools for python 3.6.x"
      ],
      "metadata": {
        "id": "SxyJ-ROGEWUs"
      }
    },
    {
      "cell_type": "code",
      "source": [
        "!sudo apt install python3-pip\n",
        "!sudo apt-get install python3.6-distutils"
      ],
      "metadata": {
        "id": "lOog6KCC48GH"
      },
      "execution_count": null,
      "outputs": []
    },
    {
      "cell_type": "markdown",
      "source": [
        "(5)install tf 1.5.x, cpu version"
      ],
      "metadata": {
        "id": "j2A34K28E11K"
      }
    },
    {
      "cell_type": "code",
      "source": [
        "!pip uninstall tensorflow\n",
        "!pip install tensorflow==1.15.0\n"
      ],
      "metadata": {
        "id": "wf6icWZK2zCr"
      },
      "execution_count": null,
      "outputs": []
    },
    {
      "cell_type": "markdown",
      "source": [
        "(6)set default python 3.10 auto, input 0 enter and then RESTART RUNTIME\n",
        "to avoid crush when RESTART.\n"
      ],
      "metadata": {
        "id": "Lsnh7FQEFkHN"
      }
    },
    {
      "cell_type": "code",
      "source": [
        "!sudo update-alternatives --config python3"
      ],
      "metadata": {
        "id": "Oj8u9SfrFaqL"
      },
      "execution_count": null,
      "outputs": []
    },
    {
      "cell_type": "markdown",
      "source": [
        "(7)After RESTART RUNTIME, change python3 version python3.6. again,  input 2 and \\enter"
      ],
      "metadata": {
        "id": "MDF6UyS6GDNz"
      }
    },
    {
      "cell_type": "code",
      "source": [
        "!sudo update-alternatives --config python3"
      ],
      "metadata": {
        "id": "OFhESjM8F3nb"
      },
      "execution_count": null,
      "outputs": []
    },
    {
      "cell_type": "markdown",
      "source": [
        "(8)check current python version if Python 3.6.x"
      ],
      "metadata": {
        "id": "w6908eyhGYgq"
      }
    },
    {
      "cell_type": "code",
      "source": [
        "!python --version"
      ],
      "metadata": {
        "id": "FdO7e50iGRfV"
      },
      "execution_count": null,
      "outputs": []
    },
    {
      "cell_type": "markdown",
      "source": [
        "(9)install other tools for python 3.6.x"
      ],
      "metadata": {
        "id": "soR8mfdVGwYr"
      }
    },
    {
      "cell_type": "code",
      "source": [
        "!pip install ez_setup\n",
        "!pip install --upgrade setuptools\n",
        "!pip install cython\n",
        "!sudo apt install python3.6-dev"
      ],
      "metadata": {
        "id": "jZj_OmycGoPr"
      },
      "execution_count": null,
      "outputs": []
    },
    {
      "cell_type": "markdown",
      "source": [
        "(10)install ADTLib"
      ],
      "metadata": {
        "id": "F-vHR36LG_3M"
      }
    },
    {
      "cell_type": "code",
      "source": [
        "# Install\n",
        "!pip install ADTLib"
      ],
      "metadata": {
        "id": "-47CmSzd0sII"
      },
      "execution_count": null,
      "outputs": []
    },
    {
      "cell_type": "markdown",
      "source": [
        "(11)check ADTLib and tensorflow in install list"
      ],
      "metadata": {
        "id": "Y0QmT7I6HEWz"
      }
    },
    {
      "cell_type": "code",
      "source": [
        "!pip list"
      ],
      "metadata": {
        "id": "w85QnOE0fSBy"
      },
      "execution_count": null,
      "outputs": []
    },
    {
      "cell_type": "markdown",
      "source": [
        "(12)check tf version"
      ],
      "metadata": {
        "id": "M6-6CcazOEym"
      }
    },
    {
      "cell_type": "code",
      "source": [
        "!echo 'import tensorflow as tf' >  test1.py\n",
        "!echo 'print (tf.__version__)' >>  test1.py\n",
        "!python test1.py"
      ],
      "metadata": {
        "id": "JZk4tVVCI7Qt"
      },
      "execution_count": null,
      "outputs": []
    },
    {
      "cell_type": "markdown",
      "source": [
        "(13)upload drum wav files (drum1.wav, drum2.wav, and drum3.wav) from your PC into google colaboratory current directory, Manually."
      ],
      "metadata": {
        "id": "qJn2JcnvPux1"
      }
    },
    {
      "cell_type": "markdown",
      "source": [
        "(14)check drum wav files in current directory"
      ],
      "metadata": {
        "id": "-ucI_MfWPnPg"
      }
    },
    {
      "cell_type": "code",
      "source": [
        "!ls"
      ],
      "metadata": {
        "id": "vO5acy1ZPjkN"
      },
      "execution_count": null,
      "outputs": []
    },
    {
      "cell_type": "markdown",
      "source": [
        "(15)try ADT (Automatic Drum Transcription)\n"
      ],
      "metadata": {
        "id": "rUiBAcXPOSu1"
      }
    },
    {
      "cell_type": "code",
      "source": [
        "!ADT drum1.wav"
      ],
      "metadata": {
        "id": "L1Nmj8oQT4b2"
      },
      "execution_count": null,
      "outputs": []
    },
    {
      "cell_type": "code",
      "source": [
        "!ADT drum2.wav"
      ],
      "metadata": {
        "id": "7fPSqHTe8ru4"
      },
      "execution_count": null,
      "outputs": []
    },
    {
      "cell_type": "code",
      "source": [
        "!ADT drum3.wav"
      ],
      "metadata": {
        "id": "IGGkkOMS8uRY"
      },
      "execution_count": null,
      "outputs": []
    },
    {
      "cell_type": "markdown",
      "source": [
        "(16)check result *.pdf and *.txt"
      ],
      "metadata": {
        "id": "9y0xpOIyV7ZV"
      }
    },
    {
      "cell_type": "code",
      "source": [
        "!ls"
      ],
      "metadata": {
        "id": "RM9Zr_SeWIOP"
      },
      "execution_count": null,
      "outputs": []
    }
  ]
}